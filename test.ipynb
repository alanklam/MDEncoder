{
 "cells": [
  {
   "cell_type": "code",
   "execution_count": 75,
   "metadata": {},
   "outputs": [],
   "source": [
    "from keras.layers import Input, Dense\n",
    "from keras.models import Model\n",
    "from keras import regularizers, metrics\n",
    "import numpy as np\n",
    "from sklearn.model_selection import train_test_split\n",
    "import matplotlib.pyplot as plt\n",
    "import seaborn as sns; sns.set(style=\"ticks\",color_codes=True)\n",
    "import pandas as pd\n",
    "%matplotlib inline"
   ]
  },
  {
   "cell_type": "code",
   "execution_count": 59,
   "metadata": {},
   "outputs": [],
   "source": [
    "#data = np.loadtxt('input/CY5S_dist_all.dat')\n",
    "data = np.loadtxt('input/A2AH_dist.dat')\n",
    "data = 1.0-data/np.max(data)"
   ]
  },
  {
   "cell_type": "code",
   "execution_count": 232,
   "metadata": {},
   "outputs": [],
   "source": [
    "#helper function\n",
    "import re\n",
    "def read_Pycontact(file):\n",
    "    with open(file,'r') as ins:\n",
    "        data = []\n",
    "        pair = []\n",
    "        firstline = True\n",
    "        for line in ins:\n",
    "            if not firstline:\n",
    "                line = line.rstrip('\\n')\n",
    "                tmp = re.findall( '\\[(.*?)\\]', line)[0].split(',')\n",
    "                data.append([float(x) for x in tmp])\n",
    "                tmp = line.split('[')[0].split()\n",
    "                pair.append((int(tmp[0]),int(tmp[2])))\n",
    "            else:\n",
    "                firstline = False\n",
    "    pair = np.asarray(pair)\n",
    "    data = np.transpose(np.asarray(data))\n",
    "    return pair, data"
   ]
  },
  {
   "cell_type": "code",
   "execution_count": 416,
   "metadata": {},
   "outputs": [],
   "source": [
    "#villin data\n",
    "pair, data = read_Pycontact('input/villin_contact_CA.txt')\n",
    "data = (data-np.mean(data))/np.std(data)"
   ]
  },
  {
   "cell_type": "code",
   "execution_count": 285,
   "metadata": {},
   "outputs": [
    {
     "data": {
      "text/plain": [
       "-0.1807113846494808"
      ]
     },
     "execution_count": 285,
     "metadata": {},
     "output_type": "execute_result"
    }
   ],
   "source": [
    "np.median(data)"
   ]
  },
  {
   "cell_type": "code",
   "execution_count": 427,
   "metadata": {},
   "outputs": [
    {
     "data": {
      "image/png": "[encoded data removed]",
      "text/plain": [
       "<Figure size 432x288 with 2 Axes>"
      ]
     },
     "metadata": {},
     "output_type": "display_data"
    }
   ],
   "source": [
    "#plt.imshow(data[0].reshape(65,30))\n",
    "plt.imshow(data[3000].reshape(25,17))\n",
    "plt.gray()\n",
    "plt.colorbar()\n",
    "plt.clim((-1,1))"
   ]
  },
  {
   "cell_type": "code",
   "execution_count": 460,
   "metadata": {},
   "outputs": [],
   "source": [
    "def build_autoencoder(f_dim,encode_dim,latent_dim, sparse=True, depth=1):\n",
    "    intm_dim = encode_dim\n",
    "    input_data = Input(shape=(f_dim,))\n",
    "    if sparse:\n",
    "        sparse_regularizer = regularizers.l1(10e-5)\n",
    "    else:\n",
    "        sparse_regularizer = None\n",
    "        \n",
    "    encoded = Dense(encode_dim, activation='relu', activity_regularizer=sparse_regularizer)(input_data)    \n",
    "    for i in range(1,depth):\n",
    "        encode_dim = encode_dim//10\n",
    "        encoded = Dense(encode_dim, activation='relu', activity_regularizer=sparse_regularizer)(encoded)\n",
    "    latent = Dense(latent_dim)(encoded)\n",
    "\n",
    "\n",
    "    decoded = Dense(encode_dim, activation='relu')(latent)\n",
    "    for i in range(1,depth): \n",
    "        encode_dim = encode_dim*10\n",
    "        decoded = Dense(encode_dim, activation='relu')(decoded)\n",
    "        \n",
    "    decoded = Dense(f_dim, activation='sigmoid')(decoded)\n",
    "\n",
    "    autoencoder = Model(input_data, decoded)\n",
    "\n",
    "    encoder = Model(input_data, latent)\n",
    "\n",
    "    # define decoder model\n",
    "    #encoded_input= Input(shape=(latent_dim,))\n",
    "    #encoded_input= Input(shape=(encode_dim,))\n",
    "    #decoder_layer = autoencoder.layers[-1]\n",
    "    #decoder = Model(encoded_input, decoder_layer(encoded_input))\n",
    "    \n",
    "    return autoencoder, encoder"
   ]
  },
  {
   "cell_type": "code",
   "execution_count": 500,
   "metadata": {},
   "outputs": [
    {
     "name": "stdout",
     "output_type": "stream",
     "text": [
      "(5843, 425)\n"
     ]
    }
   ],
   "source": [
    "f_dim = data.shape[1]\n",
    "encode_dim = 200\n",
    "latent_dim = 1\n",
    "depth = 1\n",
    "print(data.shape)\n",
    "autoencoder, encoder = build_autoencoder(f_dim, encode_dim, latent_dim, depth=depth)"
   ]
  },
  {
   "cell_type": "code",
   "execution_count": 501,
   "metadata": {},
   "outputs": [
    {
     "name": "stdout",
     "output_type": "stream",
     "text": [
      "_________________________________________________________________\n",
      "Layer (type)                 Output Shape              Param #   \n",
      "=================================================================\n",
      "input_58 (InputLayer)        (None, 425)               0         \n",
      "_________________________________________________________________\n",
      "dense_146 (Dense)            (None, 200)               85200     \n",
      "_________________________________________________________________\n",
      "dense_147 (Dense)            (None, 1)                 201       \n",
      "_________________________________________________________________\n",
      "dense_148 (Dense)            (None, 200)               400       \n",
      "_________________________________________________________________\n",
      "dense_149 (Dense)            (None, 425)               85425     \n",
      "=================================================================\n",
      "Total params: 171,226\n",
      "Trainable params: 171,226\n",
      "Non-trainable params: 0\n",
      "_________________________________________________________________\n"
     ]
    }
   ],
   "source": [
    "autoencoder.compile(optimizer='adadelta',loss='mse',metrics=['mse'])\n",
    "autoencoder.summary()"
   ]
  },
  {
   "cell_type": "code",
   "execution_count": 420,
   "metadata": {},
   "outputs": [],
   "source": [
    "x_train, x_test, _, _ = train_test_split(data,data, test_size=0.2)"
   ]
  },
  {
   "cell_type": "code",
   "execution_count": 502,
   "metadata": {},
   "outputs": [
    {
     "name": "stdout",
     "output_type": "stream",
     "text": [
      "Train on 4674 samples, validate on 1169 samples\n",
      "Epoch 1/100\n",
      " - 2s - loss: 1.2474 - mean_squared_error: 1.2140 - val_loss: 1.1508 - val_mean_squared_error: 1.1478\n",
      "Epoch 2/100\n",
      " - 1s - loss: 0.9346 - mean_squared_error: 0.9224 - val_loss: 0.8754 - val_mean_squared_error: 0.8631\n",
      "Epoch 3/100\n",
      " - 1s - loss: 0.8617 - mean_squared_error: 0.8531 - val_loss: 0.8676 - val_mean_squared_error: 0.8606\n",
      "Epoch 4/100\n",
      " - 1s - loss: 0.8555 - mean_squared_error: 0.8489 - val_loss: 0.8621 - val_mean_squared_error: 0.8547\n",
      "Epoch 5/100\n",
      " - 0s - loss: 0.8513 - mean_squared_error: 0.8449 - val_loss: 0.8588 - val_mean_squared_error: 0.8517\n",
      "Epoch 6/100\n",
      " - 0s - loss: 0.8478 - mean_squared_error: 0.8415 - val_loss: 0.8551 - val_mean_squared_error: 0.8480\n",
      "Epoch 7/100\n",
      " - 0s - loss: 0.8443 - mean_squared_error: 0.8382 - val_loss: 0.8520 - val_mean_squared_error: 0.8454\n",
      "Epoch 8/100\n",
      " - 0s - loss: 0.8408 - mean_squared_error: 0.8350 - val_loss: 0.8488 - val_mean_squared_error: 0.8424\n",
      "Epoch 9/100\n",
      " - 0s - loss: 0.8376 - mean_squared_error: 0.8320 - val_loss: 0.8450 - val_mean_squared_error: 0.8388\n",
      "Epoch 10/100\n",
      " - 1s - loss: 0.8343 - mean_squared_error: 0.8286 - val_loss: 0.8426 - val_mean_squared_error: 0.8361\n",
      "Epoch 11/100\n",
      " - 1s - loss: 0.8314 - mean_squared_error: 0.8255 - val_loss: 0.8400 - val_mean_squared_error: 0.8332\n",
      "Epoch 12/100\n",
      " - 0s - loss: 0.8282 - mean_squared_error: 0.8220 - val_loss: 0.8364 - val_mean_squared_error: 0.8295\n",
      "Epoch 13/100\n",
      " - 0s - loss: 0.8249 - mean_squared_error: 0.8185 - val_loss: 0.8336 - val_mean_squared_error: 0.8265\n",
      "Epoch 14/100\n",
      " - 0s - loss: 0.8217 - mean_squared_error: 0.8154 - val_loss: 0.8308 - val_mean_squared_error: 0.8235\n",
      "Epoch 15/100\n",
      " - 1s - loss: 0.8188 - mean_squared_error: 0.8127 - val_loss: 0.8284 - val_mean_squared_error: 0.8214\n",
      "Epoch 16/100\n",
      " - 1s - loss: 0.8163 - mean_squared_error: 0.8104 - val_loss: 0.8258 - val_mean_squared_error: 0.8193\n",
      "Epoch 17/100\n",
      " - 1s - loss: 0.8141 - mean_squared_error: 0.8085 - val_loss: 0.8242 - val_mean_squared_error: 0.8179\n",
      "Epoch 18/100\n",
      " - 1s - loss: 0.8124 - mean_squared_error: 0.8070 - val_loss: 0.8233 - val_mean_squared_error: 0.8175\n",
      "Epoch 19/100\n",
      " - 1s - loss: 0.8108 - mean_squared_error: 0.8057 - val_loss: 0.8212 - val_mean_squared_error: 0.8159\n",
      "Epoch 20/100\n",
      " - 0s - loss: 0.8095 - mean_squared_error: 0.8047 - val_loss: 0.8201 - val_mean_squared_error: 0.8146\n",
      "Epoch 21/100\n",
      " - 1s - loss: 0.8084 - mean_squared_error: 0.8038 - val_loss: 0.8192 - val_mean_squared_error: 0.8140\n",
      "Epoch 22/100\n",
      " - 1s - loss: 0.8075 - mean_squared_error: 0.8031 - val_loss: 0.8179 - val_mean_squared_error: 0.8131\n",
      "Epoch 23/100\n",
      " - 1s - loss: 0.8066 - mean_squared_error: 0.8023 - val_loss: 0.8174 - val_mean_squared_error: 0.8129\n",
      "Epoch 24/100\n",
      " - 1s - loss: 0.8059 - mean_squared_error: 0.8018 - val_loss: 0.8180 - val_mean_squared_error: 0.8132\n",
      "Epoch 25/100\n",
      " - 0s - loss: 0.8052 - mean_squared_error: 0.8012 - val_loss: 0.8166 - val_mean_squared_error: 0.8119\n",
      "Epoch 26/100\n",
      " - 1s - loss: 0.8046 - mean_squared_error: 0.8007 - val_loss: 0.8160 - val_mean_squared_error: 0.8119\n",
      "Epoch 27/100\n",
      " - 1s - loss: 0.8040 - mean_squared_error: 0.8003 - val_loss: 0.8164 - val_mean_squared_error: 0.8119\n",
      "Epoch 28/100\n",
      " - 1s - loss: 0.8035 - mean_squared_error: 0.7998 - val_loss: 0.8145 - val_mean_squared_error: 0.8103\n",
      "Epoch 29/100\n",
      " - 1s - loss: 0.8030 - mean_squared_error: 0.7994 - val_loss: 0.8156 - val_mean_squared_error: 0.8113\n",
      "Epoch 30/100\n",
      " - 0s - loss: 0.8026 - mean_squared_error: 0.7990 - val_loss: 0.8135 - val_mean_squared_error: 0.8095\n",
      "Epoch 31/100\n",
      " - 0s - loss: 0.8022 - mean_squared_error: 0.7987 - val_loss: 0.8133 - val_mean_squared_error: 0.8095\n",
      "Epoch 32/100\n",
      " - 1s - loss: 0.8017 - mean_squared_error: 0.7982 - val_loss: 0.8124 - val_mean_squared_error: 0.8085\n",
      "Epoch 33/100\n",
      " - 1s - loss: 0.8011 - mean_squared_error: 0.7977 - val_loss: 0.8139 - val_mean_squared_error: 0.8098\n",
      "Epoch 34/100\n",
      " - 1s - loss: 0.8006 - mean_squared_error: 0.7973 - val_loss: 0.8118 - val_mean_squared_error: 0.8082\n",
      "Epoch 35/100\n",
      " - 0s - loss: 0.8004 - mean_squared_error: 0.7971 - val_loss: 0.8126 - val_mean_squared_error: 0.8087\n",
      "Epoch 36/100\n",
      " - 1s - loss: 0.8001 - mean_squared_error: 0.7969 - val_loss: 0.8153 - val_mean_squared_error: 0.8112\n",
      "Epoch 37/100\n",
      " - 1s - loss: 0.7998 - mean_squared_error: 0.7966 - val_loss: 0.8109 - val_mean_squared_error: 0.8073\n",
      "Epoch 38/100\n",
      " - 0s - loss: 0.7997 - mean_squared_error: 0.7966 - val_loss: 0.8110 - val_mean_squared_error: 0.8074\n",
      "Epoch 39/100\n",
      " - 1s - loss: 0.7994 - mean_squared_error: 0.7963 - val_loss: 0.8138 - val_mean_squared_error: 0.8107\n",
      "Epoch 40/100\n",
      " - 0s - loss: 0.7992 - mean_squared_error: 0.7962 - val_loss: 0.8101 - val_mean_squared_error: 0.8068\n",
      "Epoch 41/100\n",
      " - 1s - loss: 0.7991 - mean_squared_error: 0.7962 - val_loss: 0.8121 - val_mean_squared_error: 0.8090\n",
      "Epoch 42/100\n",
      " - 1s - loss: 0.7989 - mean_squared_error: 0.7960 - val_loss: 0.8116 - val_mean_squared_error: 0.8086\n",
      "Epoch 43/100\n",
      " - 0s - loss: 0.7987 - mean_squared_error: 0.7959 - val_loss: 0.8099 - val_mean_squared_error: 0.8067\n",
      "Epoch 44/100\n",
      " - 1s - loss: 0.7987 - mean_squared_error: 0.7959 - val_loss: 0.8121 - val_mean_squared_error: 0.8091\n",
      "Epoch 45/100\n",
      " - 0s - loss: 0.7985 - mean_squared_error: 0.7956 - val_loss: 0.8098 - val_mean_squared_error: 0.8067\n",
      "Epoch 46/100\n",
      " - 1s - loss: 0.7982 - mean_squared_error: 0.7953 - val_loss: 0.8091 - val_mean_squared_error: 0.8059\n",
      "Epoch 47/100\n",
      " - 1s - loss: 0.7980 - mean_squared_error: 0.7951 - val_loss: 0.8090 - val_mean_squared_error: 0.8058\n",
      "Epoch 48/100\n",
      " - 1s - loss: 0.7977 - mean_squared_error: 0.7948 - val_loss: 0.8101 - val_mean_squared_error: 0.8066\n",
      "Epoch 49/100\n",
      " - 1s - loss: 0.7974 - mean_squared_error: 0.7945 - val_loss: 0.8167 - val_mean_squared_error: 0.8128\n",
      "Epoch 50/100\n",
      " - 1s - loss: 0.7970 - mean_squared_error: 0.7941 - val_loss: 0.8098 - val_mean_squared_error: 0.8063\n",
      "Epoch 51/100\n",
      " - 1s - loss: 0.7968 - mean_squared_error: 0.7939 - val_loss: 0.8078 - val_mean_squared_error: 0.8045\n",
      "Epoch 52/100\n",
      " - 0s - loss: 0.7964 - mean_squared_error: 0.7936 - val_loss: 0.8082 - val_mean_squared_error: 0.8049\n",
      "Epoch 53/100\n",
      " - 0s - loss: 0.7962 - mean_squared_error: 0.7933 - val_loss: 0.8073 - val_mean_squared_error: 0.8042\n",
      "Epoch 54/100\n",
      " - 1s - loss: 0.7960 - mean_squared_error: 0.7931 - val_loss: 0.8083 - val_mean_squared_error: 0.8050\n",
      "Epoch 55/100\n",
      " - 1s - loss: 0.7955 - mean_squared_error: 0.7927 - val_loss: 0.8065 - val_mean_squared_error: 0.8033\n",
      "Epoch 56/100\n",
      " - 0s - loss: 0.7954 - mean_squared_error: 0.7925 - val_loss: 0.8074 - val_mean_squared_error: 0.8040\n",
      "Epoch 57/100\n",
      " - 0s - loss: 0.7951 - mean_squared_error: 0.7922 - val_loss: 0.8073 - val_mean_squared_error: 0.8039\n",
      "Epoch 58/100\n",
      " - 1s - loss: 0.7949 - mean_squared_error: 0.7921 - val_loss: 0.8102 - val_mean_squared_error: 0.8073\n",
      "Epoch 59/100\n",
      " - 1s - loss: 0.7946 - mean_squared_error: 0.7917 - val_loss: 0.8064 - val_mean_squared_error: 0.8031\n",
      "Epoch 60/100\n",
      " - 1s - loss: 0.7944 - mean_squared_error: 0.7916 - val_loss: 0.8068 - val_mean_squared_error: 0.8038\n",
      "Epoch 61/100\n",
      " - 1s - loss: 0.7942 - mean_squared_error: 0.7914 - val_loss: 0.8058 - val_mean_squared_error: 0.8025\n",
      "Epoch 62/100\n",
      " - 1s - loss: 0.7938 - mean_squared_error: 0.7911 - val_loss: 0.8061 - val_mean_squared_error: 0.8028\n",
      "Epoch 63/100\n",
      " - 0s - loss: 0.7938 - mean_squared_error: 0.7910 - val_loss: 0.8073 - val_mean_squared_error: 0.8044\n",
      "Epoch 64/100\n",
      " - 1s - loss: 0.7934 - mean_squared_error: 0.7907 - val_loss: 0.8071 - val_mean_squared_error: 0.8041\n",
      "Epoch 65/100\n",
      " - 0s - loss: 0.7934 - mean_squared_error: 0.7907 - val_loss: 0.8047 - val_mean_squared_error: 0.8015\n",
      "Epoch 66/100\n",
      " - 0s - loss: 0.7933 - mean_squared_error: 0.7905 - val_loss: 0.8121 - val_mean_squared_error: 0.8085\n",
      "Epoch 67/100\n",
      " - 1s - loss: 0.7930 - mean_squared_error: 0.7903 - val_loss: 0.8120 - val_mean_squared_error: 0.8084\n",
      "Epoch 68/100\n",
      " - 0s - loss: 0.7928 - mean_squared_error: 0.7901 - val_loss: 0.8085 - val_mean_squared_error: 0.8056\n",
      "Epoch 69/100\n",
      " - 1s - loss: 0.7928 - mean_squared_error: 0.7900 - val_loss: 0.8042 - val_mean_squared_error: 0.8012\n",
      "Epoch 70/100\n",
      " - 1s - loss: 0.7926 - mean_squared_error: 0.7899 - val_loss: 0.8060 - val_mean_squared_error: 0.8027\n",
      "Epoch 71/100\n",
      " - 1s - loss: 0.7925 - mean_squared_error: 0.7898 - val_loss: 0.8036 - val_mean_squared_error: 0.8005\n"
     ]
    },
    {
     "name": "stdout",
     "output_type": "stream",
     "text": [
      "Epoch 72/100\n",
      " - 1s - loss: 0.7923 - mean_squared_error: 0.7896 - val_loss: 0.8051 - val_mean_squared_error: 0.8019\n",
      "Epoch 73/100\n",
      " - 1s - loss: 0.7921 - mean_squared_error: 0.7894 - val_loss: 0.8067 - val_mean_squared_error: 0.8032\n",
      "Epoch 74/100\n",
      " - 0s - loss: 0.7918 - mean_squared_error: 0.7891 - val_loss: 0.8035 - val_mean_squared_error: 0.8004\n",
      "Epoch 75/100\n",
      " - 1s - loss: 0.7920 - mean_squared_error: 0.7893 - val_loss: 0.8036 - val_mean_squared_error: 0.8005\n",
      "Epoch 76/100\n",
      " - 1s - loss: 0.7917 - mean_squared_error: 0.7890 - val_loss: 0.8046 - val_mean_squared_error: 0.8014\n",
      "Epoch 77/100\n",
      " - 1s - loss: 0.7914 - mean_squared_error: 0.7887 - val_loss: 0.8030 - val_mean_squared_error: 0.8000\n",
      "Epoch 78/100\n",
      " - 1s - loss: 0.7915 - mean_squared_error: 0.7888 - val_loss: 0.8032 - val_mean_squared_error: 0.8003\n",
      "Epoch 79/100\n",
      " - 1s - loss: 0.7913 - mean_squared_error: 0.7886 - val_loss: 0.8035 - val_mean_squared_error: 0.8004\n",
      "Epoch 80/100\n",
      " - 1s - loss: 0.7910 - mean_squared_error: 0.7884 - val_loss: 0.8026 - val_mean_squared_error: 0.7996\n",
      "Epoch 81/100\n",
      " - 1s - loss: 0.7911 - mean_squared_error: 0.7884 - val_loss: 0.8029 - val_mean_squared_error: 0.7998\n",
      "Epoch 82/100\n",
      " - 1s - loss: 0.7910 - mean_squared_error: 0.7883 - val_loss: 0.8029 - val_mean_squared_error: 0.7998\n",
      "Epoch 83/100\n",
      " - 0s - loss: 0.7907 - mean_squared_error: 0.7880 - val_loss: 0.8034 - val_mean_squared_error: 0.8006\n",
      "Epoch 84/100\n",
      " - 0s - loss: 0.7907 - mean_squared_error: 0.7880 - val_loss: 0.8030 - val_mean_squared_error: 0.7998\n",
      "Epoch 85/100\n",
      " - 1s - loss: 0.7905 - mean_squared_error: 0.7878 - val_loss: 0.8045 - val_mean_squared_error: 0.8016\n",
      "Epoch 86/100\n",
      " - 0s - loss: 0.7904 - mean_squared_error: 0.7876 - val_loss: 0.8022 - val_mean_squared_error: 0.7991\n",
      "Epoch 87/100\n",
      " - 0s - loss: 0.7902 - mean_squared_error: 0.7875 - val_loss: 0.8034 - val_mean_squared_error: 0.8005\n",
      "Epoch 88/100\n",
      " - 0s - loss: 0.7903 - mean_squared_error: 0.7876 - val_loss: 0.8036 - val_mean_squared_error: 0.8004\n",
      "Epoch 89/100\n",
      " - 0s - loss: 0.7899 - mean_squared_error: 0.7872 - val_loss: 0.8023 - val_mean_squared_error: 0.7992\n",
      "Epoch 90/100\n",
      " - 1s - loss: 0.7897 - mean_squared_error: 0.7870 - val_loss: 0.8012 - val_mean_squared_error: 0.7982\n",
      "Epoch 91/100\n",
      " - 1s - loss: 0.7899 - mean_squared_error: 0.7872 - val_loss: 0.8041 - val_mean_squared_error: 0.8008\n",
      "Epoch 92/100\n",
      " - 0s - loss: 0.7897 - mean_squared_error: 0.7869 - val_loss: 0.8010 - val_mean_squared_error: 0.7980\n",
      "Epoch 93/100\n",
      " - 1s - loss: 0.7895 - mean_squared_error: 0.7868 - val_loss: 0.8018 - val_mean_squared_error: 0.7989\n",
      "Epoch 94/100\n",
      " - 0s - loss: 0.7895 - mean_squared_error: 0.7868 - val_loss: 0.8012 - val_mean_squared_error: 0.7982\n",
      "Epoch 95/100\n",
      " - 0s - loss: 0.7893 - mean_squared_error: 0.7866 - val_loss: 0.8008 - val_mean_squared_error: 0.7978\n",
      "Epoch 96/100\n",
      " - 0s - loss: 0.7893 - mean_squared_error: 0.7867 - val_loss: 0.8005 - val_mean_squared_error: 0.7975\n",
      "Epoch 97/100\n",
      " - 0s - loss: 0.7888 - mean_squared_error: 0.7862 - val_loss: 0.8029 - val_mean_squared_error: 0.8000\n",
      "Epoch 98/100\n",
      " - 1s - loss: 0.7893 - mean_squared_error: 0.7866 - val_loss: 0.8010 - val_mean_squared_error: 0.7978\n",
      "Epoch 99/100\n",
      " - 1s - loss: 0.7889 - mean_squared_error: 0.7862 - val_loss: 0.8021 - val_mean_squared_error: 0.7989\n",
      "Epoch 100/100\n",
      " - 1s - loss: 0.7889 - mean_squared_error: 0.7861 - val_loss: 0.8003 - val_mean_squared_error: 0.7972\n"
     ]
    }
   ],
   "source": [
    "history = autoencoder.fit(x_train, x_train, epochs=100, batch_size=32, shuffle=True, validation_data=(x_test, x_test),\n",
    "                         verbose=2)"
   ]
  },
  {
   "cell_type": "code",
   "execution_count": 503,
   "metadata": {},
   "outputs": [
    {
     "data": {
      "text/plain": [
       "<matplotlib.legend.Legend at 0x7f1d7d691828>"
      ]
     },
     "execution_count": 503,
     "metadata": {},
     "output_type": "execute_result"
    },
    {
     "data": {
      "image/png": "[encoded data removed]",
      "text/plain": [
       "<Figure size 432x288 with 1 Axes>"
      ]
     },
     "metadata": {},
     "output_type": "display_data"
    },
    {
     "data": {
      "image/png": "[encoded data removed]",
      "text/plain": [
       "<Figure size 432x288 with 1 Axes>"
      ]
     },
     "metadata": {},
     "output_type": "display_data"
    }
   ],
   "source": [
    "plt.plot(history.history['loss'],label='Train')\n",
    "plt.plot(history.history['val_loss'],label='Val')\n",
    "plt.legend()\n",
    "plt.figure()\n",
    "plt.plot(history.history['mean_squared_error'],label='Train')\n",
    "plt.plot(history.history['val_mean_squared_error'],label='Val')\n",
    "plt.legend()"
   ]
  },
  {
   "cell_type": "code",
   "execution_count": 504,
   "metadata": {},
   "outputs": [
    {
     "data": {
      "text/html": [
       "<div>\n",
       "<style scoped>\n",
       "    .dataframe tbody tr th:only-of-type {\n",
       "        vertical-align: middle;\n",
       "    }\n",
       "\n",
       "    .dataframe tbody tr th {\n",
       "        vertical-align: top;\n",
       "    }\n",
       "\n",
       "    .dataframe thead th {\n",
       "        text-align: right;\n",
       "    }\n",
       "</style>\n",
       "<table border=\"1\" class=\"dataframe\">\n",
       "  <thead>\n",
       "    <tr style=\"text-align: right;\">\n",
       "      <th></th>\n",
       "      <th>CV1</th>\n",
       "    </tr>\n",
       "  </thead>\n",
       "  <tbody>\n",
       "    <tr>\n",
       "      <th>count</th>\n",
       "      <td>5843.000000</td>\n",
       "    </tr>\n",
       "    <tr>\n",
       "      <th>mean</th>\n",
       "      <td>6.137078</td>\n",
       "    </tr>\n",
       "    <tr>\n",
       "      <th>std</th>\n",
       "      <td>5.791652</td>\n",
       "    </tr>\n",
       "    <tr>\n",
       "      <th>min</th>\n",
       "      <td>-2.785102</td>\n",
       "    </tr>\n",
       "    <tr>\n",
       "      <th>25%</th>\n",
       "      <td>2.633110</td>\n",
       "    </tr>\n",
       "    <tr>\n",
       "      <th>50%</th>\n",
       "      <td>4.101067</td>\n",
       "    </tr>\n",
       "    <tr>\n",
       "      <th>75%</th>\n",
       "      <td>6.819595</td>\n",
       "    </tr>\n",
       "    <tr>\n",
       "      <th>max</th>\n",
       "      <td>22.415783</td>\n",
       "    </tr>\n",
       "  </tbody>\n",
       "</table>\n",
       "</div>"
      ],
      "text/plain": [
       "               CV1\n",
       "count  5843.000000\n",
       "mean      6.137078\n",
       "std       5.791652\n",
       "min      -2.785102\n",
       "25%       2.633110\n",
       "50%       4.101067\n",
       "75%       6.819595\n",
       "max      22.415783"
      ]
     },
     "execution_count": 504,
     "metadata": {},
     "output_type": "execute_result"
    }
   ],
   "source": [
    "output = autoencoder.predict(data)\n",
    "cv = encoder.predict(data)\n",
    "cols = ['CV'+str(i) for i in range(1,latent_dim+1)]\n",
    "cv_pd = pd.DataFrame(cv, columns=cols)\n",
    "cv_pd.describe()"
   ]
  },
  {
   "cell_type": "code",
   "execution_count": 505,
   "metadata": {},
   "outputs": [
    {
     "data": {
      "text/plain": [
       "<seaborn.axisgrid.PairGrid at 0x7f1d7d543b38>"
      ]
     },
     "execution_count": 505,
     "metadata": {},
     "output_type": "execute_result"
    },
    {
     "data": {
      "image/png": "[encoded data removed]",
      "text/plain": [
       "<Figure size 432x288 with 2 Axes>"
      ]
     },
     "metadata": {},
     "output_type": "display_data"
    },
    {
     "data": {
      "image/png": "[encoded data removed]",
      "text/plain": [
       "<Figure size 432x288 with 2 Axes>"
      ]
     },
     "metadata": {},
     "output_type": "display_data"
    },
    {
     "data": {
      "text/plain": [
       "<Figure size 432x288 with 0 Axes>"
      ]
     },
     "metadata": {},
     "output_type": "display_data"
    },
    {
     "data": {
      "image/png": "[encoded data removed]",
      "text/plain": [
       "<Figure size 180x180 with 2 Axes>"
      ]
     },
     "metadata": {},
     "output_type": "display_data"
    }
   ],
   "source": [
    "plt.imshow(data[5000].reshape(25,17))\n",
    "plt.gray()\n",
    "plt.colorbar()\n",
    "plt.clim(0,1)\n",
    "plt.figure()\n",
    "plt.imshow(output[5000].reshape(25,17))\n",
    "plt.gray()\n",
    "plt.clim(0,1)\n",
    "plt.colorbar()\n",
    "plt.figure()\n",
    "sns.pairplot(cv_pd)"
   ]
  },
  {
   "cell_type": "code",
   "execution_count": 515,
   "metadata": {},
   "outputs": [
    {
     "data": {
      "image/png": "[encoded data removed]",
      "text/plain": [
       "<Figure size 576x360 with 2 Axes>"
      ]
     },
     "metadata": {},
     "output_type": "display_data"
    }
   ],
   "source": [
    "if np.shape(cv_pd)[1]>1:\n",
    "    plt.scatter(cv_pd['CV1'],cv_pd['CV2'],marker='o')\n",
    "    plt.scatter(cv_pd['CV1'][0],cv_pd['CV2'][0],c='k',marker='x')\n",
    "    plt.scatter(cv_pd['CV1'][3000],cv_pd['CV2'][3000],c='g',marker='x')\n",
    "    plt.scatter(cv_pd['CV1'][5830],cv_pd['CV2'][5830],c='r',marker='x')\n",
    "else:\n",
    "    fig = plt.figure(figsize=(8,5))\n",
    "    plt.xlabel('Latent variable')\n",
    "    plt.ylabel('Counts')\n",
    "    plt.hist(cv_pd['CV1'],bins=np.linspace(-5,25,31),alpha=0.3)\n",
    "    plt.scatter(cv_pd['CV1'][0],0,c='k',marker='x')\n",
    "    plt.scatter(cv_pd['CV1'][4000],0,c='g',marker='x')\n",
    "    plt.scatter(cv_pd['CV1'][5830],0,c='r',marker='x')\n",
    "    plt.scatter(cv_pd['CV1'],200+np.zeros((1,len(cv_pd['CV1']))),c=np.arange(len(cv_pd['CV1'])),cmap='jet')\n",
    "    plt.colorbar()    \n",
    "    fig.savefig('figs/villin_model1.png',dpi=100)"
   ]
  },
  {
   "cell_type": "code",
   "execution_count": 516,
   "metadata": {},
   "outputs": [],
   "source": [
    "autoencoder.save('models/villin-200-full.h5')\n",
    "encoder.save('models/villin-200-encode.h5')"
   ]
  },
  {
   "cell_type": "code",
   "execution_count": 489,
   "metadata": {},
   "outputs": [],
   "source": [
    "from keras import backend as K\n",
    "\n",
    "class ActivationMaximization(object):\n",
    "    def __init__(self, layer, filter_indices):\n",
    "        self.name = \"Activation Max Loss\"\n",
    "        self.layer = layer\n",
    "        self.filter_indices = filter_indices #list object\n",
    "    def build_loss(self):\n",
    "        layer_output = self.layer.output\n",
    "        \n",
    "        loss = 0.\n",
    "        for idx in self.filter_indices:\n",
    "            loss += -K.mean(layer_output[:,idx])\n",
    "        \n",
    "        return loss\n",
    "            \n",
    "class Optimizer(object):\n",
    "    def __init__(self, input_tensor, losses, norm_grads=True):\n",
    "        self.input_tensor = input_tensor\n",
    "        self.loss_names = []\n",
    "        self.loss_functions = []\n",
    "        self.wrt_tensor = K.identity(self.input_tensor)\n",
    "        overall_loss = None\n",
    "        for loss, weight in losses:\n",
    "            if weight!=0:\n",
    "                loss_fn = weight * loss.build_loss()\n",
    "                overall_loss = loss_fn if overall_loss is None else overall_loss + loss_fn\n",
    "                self.loss_names.append(loss.name)\n",
    "                self.loss_functions.append(loss_fn)\n",
    "        grads = K.gradients(overall_loss, self.input_tensor)[0]\n",
    "        if norm_grads:\n",
    "            grads = K.l2_normalize(grads)\n",
    "        self.compute_fn = K.function([self.input_tensor, K.learning_phase()],\n",
    "                                    self.loss_functions + [overall_loss, grads, self.wrt_tensor])\n",
    "        \n",
    "    def _rmsprop(self, grads, cache=None, decay_rate=0.95):\n",
    "        if cache is None:\n",
    "            cache = np.zeros_like(grads)\n",
    "        cache = decay_rate * cache + (1 - decay_rate) * grads ** 2\n",
    "        # -grad means minimize loss function\n",
    "        step = -grads / np.sqrt(cache + K.epsilon())\n",
    "        return step, cache\n",
    "\n",
    "    def _get_seed_input(self, seed_input):\n",
    "        desired_shape = (1, ) + K.int_shape(self.input_tensor)[1:]\n",
    "\n",
    "        # seed_input cannot be None\n",
    "        # Add batch dim if needed.\n",
    "        if len(seed_input.shape) != len(desired_shape):\n",
    "            seed_input = np.expand_dims(seed_input, 0)\n",
    "\n",
    "        return seed_input.astype(K.floatx())\n",
    "    \n",
    "    \n",
    "\n",
    "\n",
    "\n",
    "    def minimize(self, seed_input, max_iter=200,\n",
    "                 grad_modifier=None,\n",
    "                 callbacks=None, verbose=True):\n",
    "\n",
    "        seed_input = self._get_seed_input(seed_input)\n",
    "        \n",
    "        def relu(grads):\n",
    "            grads[grads < 0.] = 0.\n",
    "            return grads\n",
    "        \n",
    "        def absolute(grads):\n",
    "            return np.abs(grads)\n",
    "        \n",
    "        def deprocess_input(input_array, input_range=(0, 1)):\n",
    "            # normalize tensor: center on 0., ensure std is 0.1\n",
    "            input_array = input_array.copy()\n",
    "            input_array -= input_array.mean()\n",
    "            input_array /= (input_array.std() + K.epsilon())\n",
    "            input_array *= 0.1\n",
    "\n",
    "            # clip to [0, 1]\n",
    "            input_array += 0.5\n",
    "            #input_array = np.clip(input_array, 0, 1)\n",
    "\n",
    "            # Convert to `input_range`\n",
    "            return (input_range[1] - input_range[0]) * input_array + input_range[0]\n",
    "    \n",
    "        #try absolute for maximal change\n",
    "        grad_modifier = locals()[grad_modifier]\n",
    "\n",
    "        callbacks = callbacks or []\n",
    "        #if verbose:\n",
    "        #    callbacks.append(_PRINT_CALLBACK)\n",
    "\n",
    "        cache = None\n",
    "        best_loss = float('inf')\n",
    "        best_input = None\n",
    "\n",
    "        grads = None\n",
    "        wrt_value = None\n",
    "\n",
    "        for i in range(max_iter):\n",
    "            # 0 learning phase for 'test'\n",
    "            computed_values = self.compute_fn([seed_input, 0])\n",
    "            losses = computed_values[:len(self.loss_names)]\n",
    "            named_losses = list(zip(self.loss_names, losses))\n",
    "            overall_loss, grads, wrt_value = computed_values[len(self.loss_names):]\n",
    "\n",
    "            # TODO: theano grads shape is inconsistent for some reason. Patch for now and investigate later.\n",
    "            if grads.shape != wrt_value.shape:\n",
    "                grads = np.reshape(grads, wrt_value.shape)\n",
    "                \n",
    "            # Apply grad modifier.\n",
    "            grads = grad_modifier(grads)\n",
    "\n",
    "            # Trigger callbacks\n",
    "            for c in callbacks:\n",
    "                c.callback(i, named_losses, overall_loss, grads, wrt_value)\n",
    "\n",
    "            # Gradient descent update.\n",
    "            # It only makes sense to do this if wrt_tensor is input_tensor. Otherwise shapes wont match for the update.\n",
    "            step, cache = self._rmsprop(grads, cache)\n",
    "            seed_input += step\n",
    "\n",
    "            if overall_loss < best_loss:\n",
    "                best_loss = overall_loss.copy()\n",
    "                best_input = seed_input.copy()\n",
    "\n",
    "        # Trigger on_end\n",
    "        for c in callbacks:\n",
    "            c.on_end()\n",
    "\n",
    "        return deprocess_input(best_input[0]), grads, wrt_value\n",
    "\n",
    "def normalize(array, min_value=0., max_value=1.):\n",
    "    arr_min = np.min(array)\n",
    "    arr_max = np.max(array)\n",
    "    normalized = (array - arr_min) / (arr_max - arr_min + K.epsilon())\n",
    "    return (max_value - min_value) * normalized + min_value\n",
    "    \n",
    "\n",
    "def visualize_saliency(model, layer_idx, filter_indices, seed_input, grad_modifier='absolute'):\n",
    "    input_tensor = model.input\n",
    "    losses = [(ActivationMaximization(encoder.layers[layer_idx],filter_indices),1)]\n",
    "    opt = Optimizer(input_tensor, losses, norm_grads=False)\n",
    "    grads = opt.minimize(seed_input=seed_input, max_iter=10, grad_modifier=grad_modifier)\n",
    "    return grads"
   ]
  },
  {
   "cell_type": "code",
   "execution_count": 491,
   "metadata": {},
   "outputs": [
    {
     "name": "stdout",
     "output_type": "stream",
     "text": [
      "best input: [[75 70]\n",
      " [69 51]\n",
      " [61 56]\n",
      " [61 47]\n",
      " [55 50]\n",
      " [70 51]\n",
      " [76 67]\n",
      " [72 48]\n",
      " [66 61]\n",
      " [65 47]]\n",
      "gradient: [[70 62]\n",
      " [76 59]\n",
      " [62 55]\n",
      " [71 52]\n",
      " [60 46]\n",
      " [60 54]\n",
      " [63 52]\n",
      " [52 44]\n",
      " [58 44]\n",
      " [56 46]]\n"
     ]
    },
    {
     "data": {
      "image/png": "[encoded data removed]",
      "text/plain": [
       "<Figure size 432x288 with 2 Axes>"
      ]
     },
     "metadata": {},
     "output_type": "display_data"
    },
    {
     "data": {
      "image/png": "[encoded data removed]",
      "text/plain": [
       "<Figure size 432x288 with 2 Axes>"
      ]
     },
     "metadata": {},
     "output_type": "display_data"
    },
    {
     "data": {
      "image/png": "[encoded data removed]",
      "text/plain": [
       "<Figure size 432x288 with 2 Axes>"
      ]
     },
     "metadata": {},
     "output_type": "display_data"
    }
   ],
   "source": [
    "layer_idx = 2\n",
    "filter_indices = [0]\n",
    "grads = visualize_saliency(encoder, layer_idx, filter_indices, x_test, grad_modifier='absolute')\n",
    "\n",
    "rank = (np.argsort(grads[0],axis=0))[::-1]\n",
    "print('best input:',pair[rank[0:10]])\n",
    "plt.imshow(grads[0].reshape(25,17),cmap='jet')\n",
    "plt.colorbar()\n",
    "#plt.clim(0,1)\n",
    "plt.figure()\n",
    "plt.imshow(np.mean(grads[1],axis=0).reshape(25,17),cmap='jet')\n",
    "rank = (np.argsort(np.mean(grads[1],axis=0)))[::-1]\n",
    "print('gradient:',pair[rank[0:10]])\n",
    "plt.colorbar()\n",
    "plt.figure()\n",
    "plt.imshow(grads[2][0].reshape(25,17))\n",
    "plt.colorbar()\n",
    "plt.clim(0,1)"
   ]
  },
  {
   "cell_type": "code",
   "execution_count": 123,
   "metadata": {},
   "outputs": [
    {
     "name": "stdout",
     "output_type": "stream",
     "text": [
      "0 input_18\n",
      "1 dense_21\n",
      "2 dense_22\n"
     ]
    }
   ],
   "source": [
    "absolute\n",
    "[[75 70]\n",
    " [69 51]\n",
    " [61 56]\n",
    " [61 47]\n",
    " [55 50]\n",
    " [70 51]\n",
    " [76 67]\n",
    " [72 48]\n",
    " [66 61]\n",
    " [65 47]]\n",
    "\n",
    "[[75 70]\n",
    " [69 51]\n",
    " [61 56]\n",
    " [55 50]\n",
    " [61 47]\n",
    " [70 51]\n",
    " [76 67]\n",
    " [76 70]\n",
    " [72 48]\n",
    " [65 47]]"
   ]
  }
 ],
 "metadata": {
  "kernelspec": {
   "display_name": "Python 3",
   "language": "python",
   "name": "python3"
  },
  "language_info": {
   "codemirror_mode": {
    "name": "ipython",
    "version": 3
   },
   "file_extension": ".py",
   "mimetype": "text/x-python",
   "name": "python",
   "nbconvert_exporter": "python",
   "pygments_lexer": "ipython3",
   "version": "3.6.5"
  }
 },
 "nbformat": 4,
 "nbformat_minor": 2
}
